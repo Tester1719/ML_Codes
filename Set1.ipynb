{
  "nbformat": 4,
  "nbformat_minor": 0,
  "metadata": {
    "colab": {
      "provenance": []
    },
    "kernelspec": {
      "name": "python3",
      "display_name": "Python 3"
    },
    "language_info": {
      "name": "python"
    }
  },
  "cells": [
    {
      "cell_type": "code",
      "execution_count": 26,
      "metadata": {
        "id": "PKT3cR0yvWEr"
      },
      "outputs": [],
      "source": [
        "from sklearn.datasets import load_wine,load_iris\n",
        "from sklearn.model_selection import train_test_split\n",
        "from sklearn.preprocessing import StandardScaler\n",
        "from sklearn.metrics import accuracy_score , precision_score , recall_score , f1_score , classification_report, confusion_matrix\n",
        "from sklearn.tree import DecisionTreeClassifier\n",
        "from sklearn.ensemble import RandomForestClassifier\n",
        "from sklearn.svm import SVC\n",
        "from sklearn.naive_bayes import GaussianNB"
      ]
    },
    {
      "cell_type": "code",
      "source": [
        "wine_data = load_wine()\n",
        "ionosphere_data = load_iris()"
      ],
      "metadata": {
        "id": "sTG44TSSvYAe"
      },
      "execution_count": 27,
      "outputs": []
    },
    {
      "cell_type": "code",
      "source": [
        "X = wine_data.data\n",
        "y = wine_data.target"
      ],
      "metadata": {
        "id": "l0lLLD3Owoxw"
      },
      "execution_count": 28,
      "outputs": []
    },
    {
      "cell_type": "code",
      "source": [
        "X"
      ],
      "metadata": {
        "colab": {
          "base_uri": "https://localhost:8080/"
        },
        "id": "z0YV2g8iwsrW",
        "outputId": "64f19909-c108-423e-dae0-b5e4ab1d1d56"
      },
      "execution_count": 29,
      "outputs": [
        {
          "output_type": "execute_result",
          "data": {
            "text/plain": [
              "array([[1.423e+01, 1.710e+00, 2.430e+00, ..., 1.040e+00, 3.920e+00,\n",
              "        1.065e+03],\n",
              "       [1.320e+01, 1.780e+00, 2.140e+00, ..., 1.050e+00, 3.400e+00,\n",
              "        1.050e+03],\n",
              "       [1.316e+01, 2.360e+00, 2.670e+00, ..., 1.030e+00, 3.170e+00,\n",
              "        1.185e+03],\n",
              "       ...,\n",
              "       [1.327e+01, 4.280e+00, 2.260e+00, ..., 5.900e-01, 1.560e+00,\n",
              "        8.350e+02],\n",
              "       [1.317e+01, 2.590e+00, 2.370e+00, ..., 6.000e-01, 1.620e+00,\n",
              "        8.400e+02],\n",
              "       [1.413e+01, 4.100e+00, 2.740e+00, ..., 6.100e-01, 1.600e+00,\n",
              "        5.600e+02]])"
            ]
          },
          "metadata": {},
          "execution_count": 29
        }
      ]
    },
    {
      "cell_type": "code",
      "source": [
        "y"
      ],
      "metadata": {
        "colab": {
          "base_uri": "https://localhost:8080/"
        },
        "id": "Gt9EIQcswvSG",
        "outputId": "f9c95b6d-471a-4184-8b9a-ab0fe3fd340e"
      },
      "execution_count": 30,
      "outputs": [
        {
          "output_type": "execute_result",
          "data": {
            "text/plain": [
              "array([0, 0, 0, 0, 0, 0, 0, 0, 0, 0, 0, 0, 0, 0, 0, 0, 0, 0, 0, 0, 0, 0,\n",
              "       0, 0, 0, 0, 0, 0, 0, 0, 0, 0, 0, 0, 0, 0, 0, 0, 0, 0, 0, 0, 0, 0,\n",
              "       0, 0, 0, 0, 0, 0, 0, 0, 0, 0, 0, 0, 0, 0, 0, 1, 1, 1, 1, 1, 1, 1,\n",
              "       1, 1, 1, 1, 1, 1, 1, 1, 1, 1, 1, 1, 1, 1, 1, 1, 1, 1, 1, 1, 1, 1,\n",
              "       1, 1, 1, 1, 1, 1, 1, 1, 1, 1, 1, 1, 1, 1, 1, 1, 1, 1, 1, 1, 1, 1,\n",
              "       1, 1, 1, 1, 1, 1, 1, 1, 1, 1, 1, 1, 1, 1, 1, 1, 1, 1, 1, 1, 2, 2,\n",
              "       2, 2, 2, 2, 2, 2, 2, 2, 2, 2, 2, 2, 2, 2, 2, 2, 2, 2, 2, 2, 2, 2,\n",
              "       2, 2, 2, 2, 2, 2, 2, 2, 2, 2, 2, 2, 2, 2, 2, 2, 2, 2, 2, 2, 2, 2,\n",
              "       2, 2])"
            ]
          },
          "metadata": {},
          "execution_count": 30
        }
      ]
    },
    {
      "cell_type": "code",
      "source": [
        "X_iris = ionosphere_data.data\n",
        "y_iris = ionosphere_data.target"
      ],
      "metadata": {
        "id": "Hz-MFc6wxCZP"
      },
      "execution_count": 31,
      "outputs": []
    },
    {
      "cell_type": "code",
      "source": [
        "x_train_wine,x_test_wine,y_train_wine,y_test_wine = train_test_split(X,y,test_size = 0.2 ,random_state = 42)\n",
        "x_train_iris, x_test_iris, y_train_iris, y_test_iris  = train_test_split(X_iris,y_iris,test_size = 0.2 , random_state = 42)"
      ],
      "metadata": {
        "id": "X27tvHfYwTvq"
      },
      "execution_count": 32,
      "outputs": []
    },
    {
      "cell_type": "code",
      "source": [
        "scaler = StandardScaler()\n",
        "x_train_wine = scaler.fit_transform(x_train_wine)\n",
        "x_test_wine = scaler.fit_transform(x_test_wine)\n",
        "x_train_iris = scaler.fit_transform(x_train_iris)\n",
        "x_test_iris = scaler.fit_transform(x_test_iris)"
      ],
      "metadata": {
        "id": "bBCLLMNtxVK9"
      },
      "execution_count": 33,
      "outputs": []
    },
    {
      "cell_type": "code",
      "source": [
        "models = {\n",
        "    'SVC' : SVC(),\n",
        "    'RandomForestClassifier' : RandomForestClassifier(),\n",
        "    'DecisionTreeClassifier' : DecisionTreeClassifier(),\n",
        "    'GaussianNB' : GaussianNB()\n",
        "}"
      ],
      "metadata": {
        "id": "5rnABLeGzGB2"
      },
      "execution_count": 34,
      "outputs": []
    },
    {
      "cell_type": "code",
      "source": [
        "for name, model in models.items():\n",
        "  for dataset_name , x_train , x_test , y_train , y_test in [\n",
        "      ('Wine_dataset' , x_train_wine , x_test_wine , y_train_wine , y_test_wine),\n",
        "      ('Iris_dataset' , x_train_iris , x_test_iris , y_train_iris , y_test_iris)\n",
        "  ]:\n",
        "    model.fit(x_train,y_train)\n",
        "    y_pred = model.predict(x_test)\n",
        "    accuracy = accuracy_score(y_test,y_pred)\n",
        "    precision = precision_score(y_test,y_pred,average = 'weighted')\n",
        "    recall = recall_score(y_test,y_pred,average = 'weighted')\n",
        "    f1 = f1_score(y_test,y_pred,average = 'weighted')\n",
        "    print(f\"model-name - {model}\")\n",
        "    print(f\"name - {dataset_name}\")\n",
        "    print(f\"accuracy - {accuracy}\")\n",
        "    print(f\"precesion score - {precision}\")\n",
        "    print(f\"recall_score - {recall}\")\n",
        "    print(f\"f1_score - {f1}\")\n",
        "    print(f\"confusion_matrix-\\n  {confusion_matrix(y_test,y_pred)}\")\n",
        "    print(f\"classification_report-{classification_report(y_test,y_pred)}\")\n",
        "    print(\"\\n\")\n",
        "    print(\"#############\")\n",
        "    print(\"#############\")\n",
        "    print(\"\\n\")"
      ],
      "metadata": {
        "colab": {
          "base_uri": "https://localhost:8080/"
        },
        "id": "LT7GpcJsz0Hk",
        "outputId": "24f0ee17-23c0-44e1-a04d-92ee33be5090"
      },
      "execution_count": 37,
      "outputs": [
        {
          "output_type": "stream",
          "name": "stdout",
          "text": [
            "model-name - SVC()\n",
            "name - Wine_dataset\n",
            "accuracy - 1.0\n",
            "precesion score - 1.0\n",
            "recall_score - 1.0\n",
            "f1_score - 1.0\n",
            "confusion_matrix-\n",
            "  [[14  0  0]\n",
            " [ 0 14  0]\n",
            " [ 0  0  8]]\n",
            "classification_report-              precision    recall  f1-score   support\n",
            "\n",
            "           0       1.00      1.00      1.00        14\n",
            "           1       1.00      1.00      1.00        14\n",
            "           2       1.00      1.00      1.00         8\n",
            "\n",
            "    accuracy                           1.00        36\n",
            "   macro avg       1.00      1.00      1.00        36\n",
            "weighted avg       1.00      1.00      1.00        36\n",
            "\n",
            "\n",
            "\n",
            "#############\n",
            "#############\n",
            "\n",
            "\n",
            "model-name - SVC()\n",
            "name - Iris_dataset\n",
            "accuracy - 0.9666666666666667\n",
            "precesion score - 0.9700000000000001\n",
            "recall_score - 0.9666666666666667\n",
            "f1_score - 0.966750208855472\n",
            "confusion_matrix-\n",
            "  [[10  0  0]\n",
            " [ 0  9  0]\n",
            " [ 0  1 10]]\n",
            "classification_report-              precision    recall  f1-score   support\n",
            "\n",
            "           0       1.00      1.00      1.00        10\n",
            "           1       0.90      1.00      0.95         9\n",
            "           2       1.00      0.91      0.95        11\n",
            "\n",
            "    accuracy                           0.97        30\n",
            "   macro avg       0.97      0.97      0.97        30\n",
            "weighted avg       0.97      0.97      0.97        30\n",
            "\n",
            "\n",
            "\n",
            "#############\n",
            "#############\n",
            "\n",
            "\n",
            "model-name - RandomForestClassifier()\n",
            "name - Wine_dataset\n",
            "accuracy - 1.0\n",
            "precesion score - 1.0\n",
            "recall_score - 1.0\n",
            "f1_score - 1.0\n",
            "confusion_matrix-\n",
            "  [[14  0  0]\n",
            " [ 0 14  0]\n",
            " [ 0  0  8]]\n",
            "classification_report-              precision    recall  f1-score   support\n",
            "\n",
            "           0       1.00      1.00      1.00        14\n",
            "           1       1.00      1.00      1.00        14\n",
            "           2       1.00      1.00      1.00         8\n",
            "\n",
            "    accuracy                           1.00        36\n",
            "   macro avg       1.00      1.00      1.00        36\n",
            "weighted avg       1.00      1.00      1.00        36\n",
            "\n",
            "\n",
            "\n",
            "#############\n",
            "#############\n",
            "\n",
            "\n",
            "model-name - RandomForestClassifier()\n",
            "name - Iris_dataset\n",
            "accuracy - 0.9666666666666667\n",
            "precesion score - 0.9700000000000001\n",
            "recall_score - 0.9666666666666667\n",
            "f1_score - 0.966750208855472\n",
            "confusion_matrix-\n",
            "  [[10  0  0]\n",
            " [ 0  9  0]\n",
            " [ 0  1 10]]\n",
            "classification_report-              precision    recall  f1-score   support\n",
            "\n",
            "           0       1.00      1.00      1.00        10\n",
            "           1       0.90      1.00      0.95         9\n",
            "           2       1.00      0.91      0.95        11\n",
            "\n",
            "    accuracy                           0.97        30\n",
            "   macro avg       0.97      0.97      0.97        30\n",
            "weighted avg       0.97      0.97      0.97        30\n",
            "\n",
            "\n",
            "\n",
            "#############\n",
            "#############\n",
            "\n",
            "\n",
            "model-name - DecisionTreeClassifier()\n",
            "name - Wine_dataset\n",
            "accuracy - 0.9444444444444444\n",
            "precesion score - 0.9462962962962962\n",
            "recall_score - 0.9444444444444444\n",
            "f1_score - 0.9439974457215836\n",
            "confusion_matrix-\n",
            "  [[13  1  0]\n",
            " [ 0 14  0]\n",
            " [ 1  0  7]]\n",
            "classification_report-              precision    recall  f1-score   support\n",
            "\n",
            "           0       0.93      0.93      0.93        14\n",
            "           1       0.93      1.00      0.97        14\n",
            "           2       1.00      0.88      0.93         8\n",
            "\n",
            "    accuracy                           0.94        36\n",
            "   macro avg       0.95      0.93      0.94        36\n",
            "weighted avg       0.95      0.94      0.94        36\n",
            "\n",
            "\n",
            "\n",
            "#############\n",
            "#############\n",
            "\n",
            "\n",
            "model-name - DecisionTreeClassifier()\n",
            "name - Iris_dataset\n",
            "accuracy - 0.9666666666666667\n",
            "precesion score - 0.9700000000000001\n",
            "recall_score - 0.9666666666666667\n",
            "f1_score - 0.966750208855472\n",
            "confusion_matrix-\n",
            "  [[10  0  0]\n",
            " [ 0  9  0]\n",
            " [ 0  1 10]]\n",
            "classification_report-              precision    recall  f1-score   support\n",
            "\n",
            "           0       1.00      1.00      1.00        10\n",
            "           1       0.90      1.00      0.95         9\n",
            "           2       1.00      0.91      0.95        11\n",
            "\n",
            "    accuracy                           0.97        30\n",
            "   macro avg       0.97      0.97      0.97        30\n",
            "weighted avg       0.97      0.97      0.97        30\n",
            "\n",
            "\n",
            "\n",
            "#############\n",
            "#############\n",
            "\n",
            "\n",
            "model-name - GaussianNB()\n",
            "name - Wine_dataset\n",
            "accuracy - 0.9722222222222222\n",
            "precesion score - 0.974074074074074\n",
            "recall_score - 0.9722222222222222\n",
            "f1_score - 0.9721867461331064\n",
            "confusion_matrix-\n",
            "  [[13  1  0]\n",
            " [ 0 14  0]\n",
            " [ 0  0  8]]\n",
            "classification_report-              precision    recall  f1-score   support\n",
            "\n",
            "           0       1.00      0.93      0.96        14\n",
            "           1       0.93      1.00      0.97        14\n",
            "           2       1.00      1.00      1.00         8\n",
            "\n",
            "    accuracy                           0.97        36\n",
            "   macro avg       0.98      0.98      0.98        36\n",
            "weighted avg       0.97      0.97      0.97        36\n",
            "\n",
            "\n",
            "\n",
            "#############\n",
            "#############\n",
            "\n",
            "\n",
            "model-name - GaussianNB()\n",
            "name - Iris_dataset\n",
            "accuracy - 0.9666666666666667\n",
            "precesion score - 0.9700000000000001\n",
            "recall_score - 0.9666666666666667\n",
            "f1_score - 0.966750208855472\n",
            "confusion_matrix-\n",
            "  [[10  0  0]\n",
            " [ 0  9  0]\n",
            " [ 0  1 10]]\n",
            "classification_report-              precision    recall  f1-score   support\n",
            "\n",
            "           0       1.00      1.00      1.00        10\n",
            "           1       0.90      1.00      0.95         9\n",
            "           2       1.00      0.91      0.95        11\n",
            "\n",
            "    accuracy                           0.97        30\n",
            "   macro avg       0.97      0.97      0.97        30\n",
            "weighted avg       0.97      0.97      0.97        30\n",
            "\n",
            "\n",
            "\n",
            "#############\n",
            "#############\n",
            "\n",
            "\n"
          ]
        }
      ]
    },
    {
      "cell_type": "code",
      "source": [],
      "metadata": {
        "id": "nW75kH-91hd8"
      },
      "execution_count": 35,
      "outputs": []
    }
  ]
}