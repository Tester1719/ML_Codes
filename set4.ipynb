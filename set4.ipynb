{
  "nbformat": 4,
  "nbformat_minor": 0,
  "metadata": {
    "colab": {
      "provenance": []
    },
    "kernelspec": {
      "name": "python3",
      "display_name": "Python 3"
    },
    "language_info": {
      "name": "python"
    }
  },
  "cells": [
    {
      "cell_type": "code",
      "execution_count": 33,
      "metadata": {
        "id": "Y6KCl360TShx"
      },
      "outputs": [],
      "source": [
        "from sklearn.datasets import load_diabetes , load_breast_cancer\n",
        "from sklearn.model_selection import train_test_split\n",
        "from sklearn.preprocessing import StandardScaler\n",
        "import matplotlib.pyplot as plt\n",
        "from sklearn.neural_network import MLPClassifier\n",
        "import seaborn as sns\n",
        "import numpy as np\n",
        "from sklearn.metrics import classification_report,confusion_matrix,precision_score,recall_score,accuracy_score,f1_score,roc_auc_score,roc_curve,auc\n"
      ]
    },
    {
      "cell_type": "code",
      "source": [
        "diabetes = load_diabetes()\n",
        "x = diabetes.data\n",
        "y = diabetes.target"
      ],
      "metadata": {
        "id": "_ZG9JVkBTvCZ"
      },
      "execution_count": 24,
      "outputs": []
    },
    {
      "cell_type": "code",
      "source": [
        "y # we have to correct the labels based on median"
      ],
      "metadata": {
        "colab": {
          "base_uri": "https://localhost:8080/"
        },
        "id": "7uMMvenaY7Qz",
        "outputId": "d4883d9a-4b73-4e3b-c868-814070141a56"
      },
      "execution_count": 25,
      "outputs": [
        {
          "output_type": "execute_result",
          "data": {
            "text/plain": [
              "array([151.,  75., 141., 206., 135.,  97., 138.,  63., 110., 310., 101.,\n",
              "        69., 179., 185., 118., 171., 166., 144.,  97., 168.,  68.,  49.,\n",
              "        68., 245., 184., 202., 137.,  85., 131., 283., 129.,  59., 341.,\n",
              "        87.,  65., 102., 265., 276., 252.,  90., 100.,  55.,  61.,  92.,\n",
              "       259.,  53., 190., 142.,  75., 142., 155., 225.,  59., 104., 182.,\n",
              "       128.,  52.,  37., 170., 170.,  61., 144.,  52., 128.,  71., 163.,\n",
              "       150.,  97., 160., 178.,  48., 270., 202., 111.,  85.,  42., 170.,\n",
              "       200., 252., 113., 143.,  51.,  52., 210.,  65., 141.,  55., 134.,\n",
              "        42., 111.,  98., 164.,  48.,  96.,  90., 162., 150., 279.,  92.,\n",
              "        83., 128., 102., 302., 198.,  95.,  53., 134., 144., 232.,  81.,\n",
              "       104.,  59., 246., 297., 258., 229., 275., 281., 179., 200., 200.,\n",
              "       173., 180.,  84., 121., 161.,  99., 109., 115., 268., 274., 158.,\n",
              "       107.,  83., 103., 272.,  85., 280., 336., 281., 118., 317., 235.,\n",
              "        60., 174., 259., 178., 128.,  96., 126., 288.,  88., 292.,  71.,\n",
              "       197., 186.,  25.,  84.,  96., 195.,  53., 217., 172., 131., 214.,\n",
              "        59.,  70., 220., 268., 152.,  47.,  74., 295., 101., 151., 127.,\n",
              "       237., 225.,  81., 151., 107.,  64., 138., 185., 265., 101., 137.,\n",
              "       143., 141.,  79., 292., 178.,  91., 116.,  86., 122.,  72., 129.,\n",
              "       142.,  90., 158.,  39., 196., 222., 277.,  99., 196., 202., 155.,\n",
              "        77., 191.,  70.,  73.,  49.,  65., 263., 248., 296., 214., 185.,\n",
              "        78.,  93., 252., 150.,  77., 208.,  77., 108., 160.,  53., 220.,\n",
              "       154., 259.,  90., 246., 124.,  67.,  72., 257., 262., 275., 177.,\n",
              "        71.,  47., 187., 125.,  78.,  51., 258., 215., 303., 243.,  91.,\n",
              "       150., 310., 153., 346.,  63.,  89.,  50.,  39., 103., 308., 116.,\n",
              "       145.,  74.,  45., 115., 264.,  87., 202., 127., 182., 241.,  66.,\n",
              "        94., 283.,  64., 102., 200., 265.,  94., 230., 181., 156., 233.,\n",
              "        60., 219.,  80.,  68., 332., 248.,  84., 200.,  55.,  85.,  89.,\n",
              "        31., 129.,  83., 275.,  65., 198., 236., 253., 124.,  44., 172.,\n",
              "       114., 142., 109., 180., 144., 163., 147.,  97., 220., 190., 109.,\n",
              "       191., 122., 230., 242., 248., 249., 192., 131., 237.,  78., 135.,\n",
              "       244., 199., 270., 164.,  72.,  96., 306.,  91., 214.,  95., 216.,\n",
              "       263., 178., 113., 200., 139., 139.,  88., 148.,  88., 243.,  71.,\n",
              "        77., 109., 272.,  60.,  54., 221.,  90., 311., 281., 182., 321.,\n",
              "        58., 262., 206., 233., 242., 123., 167.,  63., 197.,  71., 168.,\n",
              "       140., 217., 121., 235., 245.,  40.,  52., 104., 132.,  88.,  69.,\n",
              "       219.,  72., 201., 110.,  51., 277.,  63., 118.,  69., 273., 258.,\n",
              "        43., 198., 242., 232., 175.,  93., 168., 275., 293., 281.,  72.,\n",
              "       140., 189., 181., 209., 136., 261., 113., 131., 174., 257.,  55.,\n",
              "        84.,  42., 146., 212., 233.,  91., 111., 152., 120.,  67., 310.,\n",
              "        94., 183.,  66., 173.,  72.,  49.,  64.,  48., 178., 104., 132.,\n",
              "       220.,  57.])"
            ]
          },
          "metadata": {},
          "execution_count": 25
        }
      ]
    },
    {
      "cell_type": "code",
      "source": [
        "def plot_confusion_matrix(cm, title):\n",
        "  sns.heatmap(cm, annot=True, cmap='Blues')\n",
        "  plt.title(title)\n",
        "  plt.xlabel('Predicted Labels')\n",
        "  plt.ylabel('True Labels')\n",
        "  plt.show()"
      ],
      "metadata": {
        "id": "l8ciT-XwWc1W"
      },
      "execution_count": 26,
      "outputs": []
    },
    {
      "cell_type": "code",
      "source": [
        "def evaluate_ann_diabetes(test_size = 0.3 , hidden_layer_size = (64,32)):\n",
        "\n",
        "  diabetes = load_diabetes()\n",
        "  x = diabetes.data\n",
        "  y = diabetes.target\n",
        "  y = (y > np.median(y)).astype(int)\n",
        "\n",
        "  x_train,x_test,y_train,y_test = train_test_split(x,y,test_size = test_size,random_state = 42)\n",
        "  scaler = StandardScaler()\n",
        "  x_train_scaled = scaler.fit_transform(x_train)\n",
        "  x_test_scaled = scaler.fit_transform(x_test)\n",
        "\n",
        "  model = MLPClassifier(hidden_layer_sizes = hidden_layer_size,max_iter = 500)\n",
        "  model.fit(x_train_scaled, y_train)\n",
        "  y_pred = model.predict(x_test_scaled)\n",
        "  y_pred_proba = model.predict_proba(x_test_scaled)[:,1]\n",
        "\n",
        "\n",
        "  accuracy = accuracy_score(y_test, y_pred)\n",
        "  precision = precision_score(y_test, y_pred,average='weighted')\n",
        "  recall = recall_score(y_test, y_pred,average='weighted')\n",
        "  f1 = f1_score(y_test, y_pred,average='weighted')\n",
        "  roc_auc = roc_auc_score(y_test, y_pred_proba)\n",
        "  cr = classification_report(y_test,y_pred)\n",
        "  cm = confusion_matrix(y_test,y_pred);\n",
        "  plot_confusion_matrix(cm, \"Confusion Matrix\")\n",
        "\n",
        "  print(\"Results are below\\n\")\n",
        "  print(\"Accuracy:\" , accuracy)\n",
        "  print(\"precision:\" , precision)\n",
        "  print(\"Recall:\" , recall)\n",
        "  print(\"F1 Score:\", f1)\n",
        "  print(\"ROC AUC score\" , roc_auc)\n",
        "  print(\"Classification Report is\\n\", cr)\n",
        "  print('###############')\n",
        "  print('###############')\n",
        "\n",
        "\n",
        "\n"
      ],
      "metadata": {
        "id": "k28Jxq12T4kG"
      },
      "execution_count": 31,
      "outputs": []
    },
    {
      "cell_type": "code",
      "source": [
        "test_size =  0.25\n",
        "hidden_layer_size = (64,32)\n",
        "evaluate_ann_diabetes(test_size,hidden_layer_size)"
      ],
      "metadata": {
        "colab": {
          "base_uri": "https://localhost:8080/",
          "height": 856
        },
        "id": "_V0RN9aST5Zx",
        "outputId": "229cb0f0-3d5d-4263-ffea-0fed2f678f38"
      },
      "execution_count": 32,
      "outputs": [
        {
          "output_type": "stream",
          "name": "stderr",
          "text": [
            "/usr/local/lib/python3.10/dist-packages/sklearn/neural_network/_multilayer_perceptron.py:690: ConvergenceWarning: Stochastic Optimizer: Maximum iterations (500) reached and the optimization hasn't converged yet.\n",
            "  warnings.warn(\n"
          ]
        },
        {
          "output_type": "display_data",
          "data": {
            "text/plain": [
              "<Figure size 640x480 with 2 Axes>"
            ],
            "image/png": "[encoded data removed]"
          },
          "metadata": {}
        },
        {
          "output_type": "stream",
          "name": "stdout",
          "text": [
            "Results are below\n",
            "\n",
            "Accuracy: 0.7747747747747747\n",
            "precision: 0.7819661767030189\n",
            "Recall: 0.7747747747747747\n",
            "F1 Score: 0.775287274271427\n",
            "ROC AUC score 0.8318032786885245\n",
            "Classification Report is\n",
            "               precision    recall  f1-score   support\n",
            "\n",
            "           0       0.83      0.74      0.78        61\n",
            "           1       0.72      0.82      0.77        50\n",
            "\n",
            "    accuracy                           0.77       111\n",
            "   macro avg       0.78      0.78      0.77       111\n",
            "weighted avg       0.78      0.77      0.78       111\n",
            "\n",
            "###############\n",
            "###############\n"
          ]
        }
      ]
    },
    {
      "cell_type": "code",
      "source": [
        "def evaluate_ann_breast_cancer(test_size = 0.3 , hidden_layer_size = (64,32)):\n",
        "\n",
        "  breast_cancer = load_breast_cancer()\n",
        "  x = breast_cancer.data\n",
        "  y = breast_cancer.target\n",
        "\n",
        "  x_train , x_test , y_train , y_test = train_test_split(x,y,test_size = test_size , random_state = 42)\n",
        "  scaler = StandardScaler()\n",
        "  x_train_scaled = scaler.fit_transform(x_train)\n",
        "  x_test_scaled = scaler.fit_transform(x_test)\n",
        "  model = MLPClassifier(hidden_layer_sizes = hidden_layer_size,max_iter = 500)\n",
        "  model.fit(x_train,y_train)\n",
        "  y_pred = model.predict(x_test)\n",
        "  y_pred_proba = model.predict_proba(x_test)[:,1]\n",
        "\n",
        "  accuracy = accuracy_score(y_test, y_pred)\n",
        "  precision = precision_score(y_test,y_pred,average = 'weighted')\n",
        "  recall = recall_score(y_test,y_pred, average = 'weighted')\n",
        "  f1 = f1_score(y_test,y_pred , average = 'weighted')\n",
        "  roc_auc = roc_auc_score(y_test,y_pred_proba)\n",
        "  cr = classification_report(y_test,y_pred)\n",
        "  cm = confusion_matrix(y_test,y_pred);\n",
        "  plot_confusion_matrix(cm, \"Confusion Matrix\")\n",
        "\n",
        "  print(\"Results are below\\n\")\n",
        "  print(\"Accuracy:\" , accuracy)\n",
        "  print(\"precision:\" , precision)\n",
        "  print(\"Recall:\" , recall)\n",
        "  print(\"F1 Score:\", f1)\n",
        "  print(\"ROC AUC score\" , roc_auc)\n",
        "  print(\"Classification Report is\\n\", cr)\n",
        "  print('###############')\n",
        "  print('###############')\n"
      ],
      "metadata": {
        "id": "4CMx1565X1kL"
      },
      "execution_count": 34,
      "outputs": []
    },
    {
      "cell_type": "code",
      "source": [
        "test_size = 0.25\n",
        "hidden_layer_size = (64 , 32)\n",
        "evaluate_ann_breast_cancer(test_size , hidden_layer_size)"
      ],
      "metadata": {
        "colab": {
          "base_uri": "https://localhost:8080/",
          "height": 802
        },
        "id": "nvEksdzJbPnX",
        "outputId": "479ee323-f10a-47e6-97f3-327ca8e909fc"
      },
      "execution_count": 35,
      "outputs": [
        {
          "output_type": "display_data",
          "data": {
            "text/plain": [
              "<Figure size 640x480 with 2 Axes>"
            ],
            "image/png": "[encoded data removed]"
          },
          "metadata": {}
        },
        {
          "output_type": "stream",
          "name": "stdout",
          "text": [
            "Results are below\n",
            "\n",
            "Accuracy: 0.9300699300699301\n",
            "precision: 0.9375001740593139\n",
            "Recall: 0.9300699300699301\n",
            "F1 Score: 0.9308358983815374\n",
            "ROC AUC score 0.9945900957136912\n",
            "Classification Report is\n",
            "               precision    recall  f1-score   support\n",
            "\n",
            "           0       0.85      0.98      0.91        54\n",
            "           1       0.99      0.90      0.94        89\n",
            "\n",
            "    accuracy                           0.93       143\n",
            "   macro avg       0.92      0.94      0.93       143\n",
            "weighted avg       0.94      0.93      0.93       143\n",
            "\n",
            "###############\n",
            "###############\n"
          ]
        }
      ]
    },
    {
      "cell_type": "code",
      "source": [],
      "metadata": {
        "id": "wwIWelzGbaRh"
      },
      "execution_count": null,
      "outputs": []
    }
  ]
}